{
 "cells": [
  {
   "cell_type": "markdown",
   "id": "e0d27e77",
   "metadata": {},
   "source": [
    "# 1. Tratamento dos Dados\n",
    "\n",
    "Notebook com o objetivo de importar e tratar os dados referentes a cobertura de vacinação do estado Piauí, Região Nordeste e de todo o território nacional.\n",
    "\n",
    "Os dados disponíveis são oriundos do Sistema de Avaliação do Programa de Imunizações - API, sistema este gerido pela Coordenação Geral do Programa Nacional de Imunizações - CGPNI, do Departamento de Vigilância Epidemiológica, secretaria de Vigilância em Saúde, do Ministério da Saúde, em conjunto com as Secretarias Estaduais de Saúde, suas regionais e as Secretarias Municipais de Saúde. Retirados pelo site do DataSus.\n",
    "\n",
    "## 1.1. Descrição dos Dados\n",
    "- Imuno: descrição Imunobiológico.\n",
    "- Variable: período anual da cobertura vacinal (dados atualizados em: 04/09/2019).\n",
    "- Value: cobertura vacinal que representam o número de doses aplicadas dividido pela população alvo."
   ]
  },
  {
   "cell_type": "code",
   "execution_count": 1,
   "id": "e78343f1",
   "metadata": {},
   "outputs": [],
   "source": [
    "# Importação de pacotes\n",
    "import warnings\n",
    "warnings.filterwarnings('ignore')\n",
    "import pandas as pd"
   ]
  },
  {
   "cell_type": "code",
   "execution_count": 2,
   "id": "454718cd",
   "metadata": {},
   "outputs": [],
   "source": [
    "# Criando variáveis com o diretório de cada arquivo\n",
    "dir_piaui = '../data/raw/coberturas_vacinais_por_ano_segundo_imuno_piaui.csv'\n",
    "dir_nordeste = '../data/raw/coberturas_vacinais_por_ano_segundo_imuno_regiao_nordeste.csv'\n",
    "dir_brasil = '../data/raw/coberturas_vacinais_por_ano_segundo_imuno_brasil.csv'"
   ]
  },
  {
   "cell_type": "code",
   "execution_count": 3,
   "id": "094b9afc",
   "metadata": {},
   "outputs": [],
   "source": [
    "# Criando a função para gerar o dataframe com o local\n",
    "def create_dataframe(dir_csv, local, skip_rows):\n",
    "    df = pd.read_csv(dir_csv,\n",
    "                     encoding=\"ISO-8859-1\",\n",
    "                     skiprows=skip_rows,\n",
    "                     sep = \";\",\n",
    "                     skipfooter=19, # Ignorar 12 últimas linhas\n",
    "                     thousands=\".\", # Separador de milhares\n",
    "                     decimal=\",\") # Separador decimal) \n",
    "    df.drop(columns=['Total'], inplace=True)\n",
    "    df = df.melt(id_vars='Imuno')\n",
    "    df['local'] = f'{local}'\n",
    "    df['value'] = df['value'].replace('-', 0).astype('float')\n",
    "    df['variable'] = df['variable'].astype('int')\n",
    "    df = df.dropna()\n",
    "    return df"
   ]
  },
  {
   "cell_type": "code",
   "execution_count": 4,
   "id": "053c92ab",
   "metadata": {},
   "outputs": [],
   "source": [
    "# Criando o dataframe por Local Estudado\n",
    "df_piaui = create_dataframe(dir_piaui,'Piaui', 4)\n",
    "df_nordeste = create_dataframe(dir_nordeste,'Nordeste', 4)\n",
    "df_brasil = create_dataframe(dir_brasil,'Brasil', 3)"
   ]
  },
  {
   "cell_type": "code",
   "execution_count": 5,
   "id": "155f809c",
   "metadata": {},
   "outputs": [
    {
     "data": {
      "text/html": [
       "<div>\n",
       "<style scoped>\n",
       "    .dataframe tbody tr th:only-of-type {\n",
       "        vertical-align: middle;\n",
       "    }\n",
       "\n",
       "    .dataframe tbody tr th {\n",
       "        vertical-align: top;\n",
       "    }\n",
       "\n",
       "    .dataframe thead th {\n",
       "        text-align: right;\n",
       "    }\n",
       "</style>\n",
       "<table border=\"1\" class=\"dataframe\">\n",
       "  <thead>\n",
       "    <tr style=\"text-align: right;\">\n",
       "      <th></th>\n",
       "      <th>Imuno</th>\n",
       "      <th>variable</th>\n",
       "      <th>value</th>\n",
       "      <th>local</th>\n",
       "    </tr>\n",
       "  </thead>\n",
       "  <tbody>\n",
       "    <tr>\n",
       "      <th>0</th>\n",
       "      <td>072 BCG</td>\n",
       "      <td>1994</td>\n",
       "      <td>99.20</td>\n",
       "      <td>Piaui</td>\n",
       "    </tr>\n",
       "    <tr>\n",
       "      <th>1</th>\n",
       "      <td>073 Hepatite B</td>\n",
       "      <td>1994</td>\n",
       "      <td>0.00</td>\n",
       "      <td>Piaui</td>\n",
       "    </tr>\n",
       "    <tr>\n",
       "      <th>2</th>\n",
       "      <td>074 Poliomielite</td>\n",
       "      <td>1994</td>\n",
       "      <td>53.33</td>\n",
       "      <td>Piaui</td>\n",
       "    </tr>\n",
       "    <tr>\n",
       "      <th>3</th>\n",
       "      <td>006 Febre Amarela</td>\n",
       "      <td>1994</td>\n",
       "      <td>0.01</td>\n",
       "      <td>Piaui</td>\n",
       "    </tr>\n",
       "    <tr>\n",
       "      <th>4</th>\n",
       "      <td>075 DTP</td>\n",
       "      <td>1994</td>\n",
       "      <td>65.65</td>\n",
       "      <td>Piaui</td>\n",
       "    </tr>\n",
       "  </tbody>\n",
       "</table>\n",
       "</div>"
      ],
      "text/plain": [
       "               Imuno  variable  value  local\n",
       "0            072 BCG      1994  99.20  Piaui\n",
       "1     073 Hepatite B      1994   0.00  Piaui\n",
       "2   074 Poliomielite      1994  53.33  Piaui\n",
       "3  006 Febre Amarela      1994   0.01  Piaui\n",
       "4            075 DTP      1994  65.65  Piaui"
      ]
     },
     "execution_count": 5,
     "metadata": {},
     "output_type": "execute_result"
    }
   ],
   "source": [
    "df_geral = df_piaui\n",
    "df_geral = df_geral.append(df_nordeste, ignore_index=True)\n",
    "df_geral = df_geral.append(df_brasil, ignore_index=True)\n",
    "df_geral.head()"
   ]
  },
  {
   "cell_type": "code",
   "execution_count": 6,
   "id": "d3bbe556",
   "metadata": {},
   "outputs": [],
   "source": [
    "# Exportando Arquivo para o .csv\n",
    "df_geral.to_csv('../data/processed/coberturas_vacinais_por_ano_segundo_imuno_todas_regioes.csv',\n",
    "               sep=\";\",\n",
    "               index=False)\n"
   ]
  }
 ],
 "metadata": {
  "kernelspec": {
   "display_name": "Python 3",
   "language": "python",
   "name": "python3"
  },
  "language_info": {
   "codemirror_mode": {
    "name": "ipython",
    "version": 3
   },
   "file_extension": ".py",
   "mimetype": "text/x-python",
   "name": "python",
   "nbconvert_exporter": "python",
   "pygments_lexer": "ipython3",
   "version": "3.8.5"
  }
 },
 "nbformat": 4,
 "nbformat_minor": 5
}
